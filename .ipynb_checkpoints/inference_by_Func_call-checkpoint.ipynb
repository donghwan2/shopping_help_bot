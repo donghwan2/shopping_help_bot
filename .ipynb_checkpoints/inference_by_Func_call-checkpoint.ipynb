{
 "cells": [
  {
   "cell_type": "code",
   "execution_count": null,
   "id": "e62cf779-e578-48bc-8559-2cfebc9f516a",
   "metadata": {},
   "outputs": [],
   "source": [
    "# 가상환경 : langchain"
   ]
  },
  {
   "cell_type": "code",
   "execution_count": 18,
   "id": "263473e2-67fe-41cb-8097-7e61daebc65b",
   "metadata": {},
   "outputs": [],
   "source": [
    "from dotenv import load_dotenv                 # api key 파일(.env) 관리\n",
    "load_dotenv()\n",
    "\n",
    "from openai import OpenAI\n",
    "client = OpenAI()\n",
    "\n",
    "import json\n",
    "import requests"
   ]
  },
  {
   "cell_type": "code",
   "execution_count": 27,
   "id": "a21d99bf-79a9-47df-a358-89df568595de",
   "metadata": {},
   "outputs": [],
   "source": [
    "tools = [\n",
    "    {\n",
    "        \"type\": \"function\",\n",
    "        \"function\": {\n",
    "            \"name\": \"get_product\",\n",
    "            \"description\": \"Get the product by product_no\",\n",
    "            \"parameters\": {\n",
    "                \"type\": \"object\",\n",
    "                \"properties\": {\n",
    "                    \"product_no\": {\"type\": \"number\",\"description\": \"상품번호\"}\n",
    "            },\n",
    "            \"additionalProperties\": False,\n",
    "            \"required\": [\"product_no\"]\n",
    "        },\n",
    "        \"strict\": True\n",
    "        }\n",
    "    },\n",
    "    {\n",
    "        \"type\": \"function\",\n",
    "        \"function\": {\n",
    "        \"name\": \"get_shipping\",\n",
    "        \"description\": \"Get the shipping info by order_no, order_seq\",\n",
    "        \"parameters\": {\n",
    "            \"type\": \"object\",\n",
    "            \"properties\": {\n",
    "                \"order_no\": {\"type\": \"number\",\"description\": \"주문번호\"},\n",
    "                \"order_seq\": {\"type\": \"number\",\"description\": \"주문순번\"}\n",
    "            },\n",
    "            \"additionalProperties\": False,\n",
    "            \"required\": [\"order_no\",\"order_seq\"]\n",
    "        },\n",
    "        \"strict\": True\n",
    "        }\n",
    "    },\n",
    "    {\n",
    "        \"type\": \"function\",\n",
    "        \"function\": {\n",
    "        \"name\": \"get_order\",\n",
    "        \"description\": \"Get the order by order_no\",\n",
    "        \"parameters\": {\n",
    "            \"type\": \"object\",\n",
    "            \"properties\": {\n",
    "                \"order_no\": {\"type\": \"number\",\"description\": \"주문번호\"}\n",
    "            },\n",
    "            \"additionalProperties\": False,\n",
    "            \"required\": [\"order_no\"]\n",
    "        },\n",
    "        \"strict\": True\n",
    "        }\n",
    "    }\n",
    "]\n",
    "\n",
    "# temperature=1,\n",
    "# max_tokens=2048,\n",
    "# top_p=1,\n",
    "# frequency_penalty=0,\n",
    "# presence_penalty=0\n",
    "\n",
    "# FastAPI에 HTTP 통신(여기서는 GET) 하는 함수들\n",
    "def get_product(product_no):\n",
    "    return requests.get(f\"http://127.0.0.1:8000/products/{product_no}\").json()\n",
    "\n",
    "def get_order(order_no):\n",
    "    return requests.get(f\"http://127.0.0.1:8000/order/{order_no}\").json()\n",
    "\n",
    "def get_shipping(order_no, order_seq):\n",
    "    return requests.get(f\"http://127.0.0.1:8000/shipping/{order_no}/{order_seq}\").json()\n",
    "\n",
    "def inference(message):    # message = \"상품번호가 1234567890인 상품 찾아줘\"\n",
    "    response = client.chat.completions.create(\n",
    "        model=\"gpt-4o-mini\", \n",
    "        messages=[\n",
    "            {\"role\": \"user\", \"content\": message}\n",
    "        ],\n",
    "        temperature=0,\n",
    "        tools = tools\n",
    "    )\n",
    "    response.choices[0]\n",
    "    \n",
    "    # Function calling 관련 질문과 일반적 질문을 분기처리\n",
    "    if response.choices[0].finish_reason == 'tool_calls':\n",
    "        tool_name = response.choices[0].message.tool_calls[0].function.name\n",
    "        tool_arguments = response.choices[0].message.tool_calls[0].function.arguments\n",
    "        tool_arguments = json.loads(tool_arguments)\n",
    "        # print(tool_name, \"\\n\", tool_arguments)   # get_product  {\"product_no\":1234567890}\n",
    "        # 어떤 tool 함수를 썼느냐에 따라 API에 요청하는 엔드포인트가 달라진다.\n",
    "        if tool_name == \"get_product\":\n",
    "            result = get_product(tool_arguments[\"product_no\"])\n",
    "        elif tool_name == \"get_order\":\n",
    "            result = get_order(tool_arguments[\"order_no\"])\n",
    "        elif tool_name == \"get_shipping\":\n",
    "            result = get_shipping(\n",
    "                order_no = tool_arguments[\"order_no\"],\n",
    "                order_seq = tool_arguments[\"order_seq\"]\n",
    "            )\n",
    "        # print(result)  # {'productNo': 1234567890, 'productName': '아이폰 16 Pro', 'productStatus': 'NORMAL'}\n",
    "\n",
    "        # Function calling 답변 결과를 활용해서 프롬프트 작성 \n",
    "        prompt = f\"\"\"context: {result}\n",
    "        Q: {message}                  \n",
    "        A: \n",
    "        \"\"\"      # message : \"상품번호가 1234567890인 상품 찾아줘\"\n",
    "    \n",
    "        # 위에서 만들어낸 프롬프트로 다시 챗gpt에게 질문\n",
    "        response_answer = client.chat.completions.create(\n",
    "                model=\"gpt-4o-mini\", \n",
    "                messages=[\n",
    "                    {\"role\": \"user\", \"content\": prompt}\n",
    "                ],\n",
    "                temperature=0\n",
    "                )\n",
    "        # print(response_answer.choices[0].message.content)  # 상품번호가 1234567890인 상품은 '아이폰 16 Pro'이며, 현재 상태는 'NORMAL'입니다.\n",
    "        return response_answer.choices[0].message.content\n",
    "    else:\n",
    "        return response.choices[0].message.content"
   ]
  },
  {
   "cell_type": "code",
   "execution_count": 28,
   "id": "1c8a4666-ffa0-47c6-83c0-29f2b38b5c88",
   "metadata": {},
   "outputs": [
    {
     "data": {
      "text/plain": [
       "\"상품번호가 1234567890인 상품은 '아이폰 16 Pro'이며, 현재 상태는 'NORMAL'입니다.\""
      ]
     },
     "execution_count": 28,
     "metadata": {},
     "output_type": "execute_result"
    }
   ],
   "source": [
    "inference(\"상품번호가 1234567890인 상품 찾아줘\")   # Function calling을 이용한 답변"
   ]
  },
  {
   "cell_type": "code",
   "execution_count": 29,
   "id": "6a8667d9-48bb-4812-8364-672f1a0d6fc9",
   "metadata": {},
   "outputs": [
    {
     "data": {
      "text/plain": [
       "'딥러닝(Deep Learning)은 인공지능(AI)과 머신러닝(Machine Learning)의 한 분야로, 인공신경망(Artificial Neural Networks)을 기반으로 한 학습 방법입니다. 딥러닝은 데이터에서 패턴을 학습하고, 이를 통해 예측이나 분류 등의 작업을 수행하는 데 사용됩니다.\\n\\n딥러닝의 주요 특징은 다음과 같습니다:\\n\\n1. **다층 구조**: 딥러닝 모델은 여러 개의 층(layer)으로 구성되어 있으며, 각 층은 입력 데이터를 처리하고 변환하여 다음 층으로 전달합니다. 이러한 다층 구조 덕분에 복잡한 데이터의 특징을 효과적으로 학습할 수 있습니다.\\n\\n2. **자동 특징 추출**: 전통적인 머신러닝에서는 특징(feature)을 수동으로 추출해야 하지만, 딥러닝은 원시 데이터(raw data)에서 자동으로 특징을 학습할 수 있습니다. 이는 이미지, 음성, 텍스트 등 다양한 형태의 데이터에 적용됩니다.\\n\\n3. **대량의 데이터 처리**: 딥러닝은 대량의 데이터에서 학습할 수 있는 능력이 뛰어나며, 이는 고성능 컴퓨팅 자원과 결합되어 더욱 효과적입니다.\\n\\n4. **응용 분야**: 딥러닝은 이미지 인식, 자연어 처리, 자율주행차, 의료 진단 등 다양한 분야에서 활용되고 있습니다.\\n\\n딥러닝은 그 성능과 유연성 덕분에 최근 몇 년간 많은 주목을 받고 있으며, 인공지능 기술의 발전에 큰 기여를 하고 있습니다.'"
      ]
     },
     "execution_count": 29,
     "metadata": {},
     "output_type": "execute_result"
    }
   ],
   "source": [
    "inference(\"딥러닝이 뭐야?\")  # 일반적인 gpt 답변"
   ]
  },
  {
   "cell_type": "code",
   "execution_count": null,
   "id": "8145edf6-c620-4d51-b164-ed8772d4c838",
   "metadata": {},
   "outputs": [],
   "source": []
  }
 ],
 "metadata": {
  "kernelspec": {
   "display_name": "langchain",
   "language": "python",
   "name": "langchain"
  },
  "language_info": {
   "codemirror_mode": {
    "name": "ipython",
    "version": 3
   },
   "file_extension": ".py",
   "mimetype": "text/x-python",
   "name": "python",
   "nbconvert_exporter": "python",
   "pygments_lexer": "ipython3",
   "version": "3.11.10"
  }
 },
 "nbformat": 4,
 "nbformat_minor": 5
}
